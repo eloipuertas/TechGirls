{
 "cells": [
  {
   "cell_type": "markdown",
   "metadata": {},
   "source": [
    "# Dades Obertes de Sabadell\n",
    "\n",
    "\n",
    "http://opendata.sabadell.cat/ca/\n",
    "\n",
    "Accedim a les dades sobre Medi Ambient i ens trobem amb un fitxer sobre residus i ens el descarreguem.\n",
    "podeu veure el fitxer descarregat [en aquí](residus.csv)\n",
    "\n",
    "Es tracta d'un fitxer CSV que vol dir Comma Separated Value, és a dir un fitxer que conté dades separades per comes. Es tracta doncs d'un fitxer tipus taula, on les files signifiquen registres i les columnes diferentes caractarístiques o camps dels registres.\n",
    "\n",
    "Podeu veure el fitxer en format de taula usant l'aplicació de l'ajuntament de dades obertes en el següent link:\n",
    "[OpenData Sabadell](http://opendata.sabadell.cat/ca/inici/odata?iddist=1462). En aquest cas veiem que cada registre representa la quantitat de residus en tones d'un tipus per a un any determinat que hi hagut a Sabadell.\n",
    "\n",
    "El que farem a continuació amb python és llegir aquest fitxer i crear una visualització intercativa. \n"
   ]
  },
  {
   "cell_type": "code",
   "execution_count": 1,
   "metadata": {},
   "outputs": [],
   "source": [
    "import dash\n",
    "import dash_core_components as dcc\n",
    "import dash_html_components as html\n",
    "import plotly.graph_objs as go\n",
    "from plotly import tools\n",
    "import pandas as pd\n",
    "\n",
    "minim = 0\n",
    "maxim = 1000\n",
    "pas = 100\n",
    "\n",
    "df=pd.read_csv(\"residus.csv\",sep=\";\")\n",
    "df.sort_values(by=\"Anyo\",inplace= True)\n",
    "materials = list(df.NomMaterial.unique())\n",
    "materials.remove(\"Resta\")\n",
    "pd.pivot_table(df,columns=\"Anyo\", index = \"NomMaterial\", values=\"Quantitat\")\n"
   ]
  },
  {
   "cell_type": "code",
   "execution_count": 2,
   "metadata": {},
   "outputs": [
    {
     "name": "stderr",
     "output_type": "stream",
     "text": [
      " * Running on http://127.0.0.1:8050/ (Press CTRL+C to quit)\n",
      "127.0.0.1 - - [16/Nov/2018 10:18:52] \"GET / HTTP/1.1\" 200 -\n",
      "127.0.0.1 - - [16/Nov/2018 10:18:54] \"GET /_dash-layout HTTP/1.1\" 200 -\n",
      "127.0.0.1 - - [16/Nov/2018 10:18:54] \"GET /_dash-dependencies HTTP/1.1\" 200 -\n"
     ]
    },
    {
     "name": "stdout",
     "output_type": "stream",
     "text": [
      "This is the format of your plot grid:\n",
      "[ (1,1) x1,y1 ]\n",
      "[ (2,1) x1,y2 ]\n",
      "\n"
     ]
    },
    {
     "name": "stderr",
     "output_type": "stream",
     "text": [
      "127.0.0.1 - - [16/Nov/2018 10:18:59] \"POST /_dash-update-component HTTP/1.1\" 200 -\n",
      "127.0.0.1 - - [16/Nov/2018 10:18:59] \"GET /favicon.ico HTTP/1.1\" 200 -\n",
      "127.0.0.1 - - [16/Nov/2018 10:19:03] \"POST /_dash-update-component HTTP/1.1\" 200 -\n"
     ]
    },
    {
     "name": "stdout",
     "output_type": "stream",
     "text": [
      "This is the format of your plot grid:\n",
      "[ (1,1) x1,y1 ]\n",
      "[ (2,1) x1,y2 ]\n",
      "\n",
      "This is the format of your plot grid:\n",
      "[ (1,1) x1,y1 ]\n",
      "[ (2,1) x1,y2 ]\n",
      "\n"
     ]
    },
    {
     "name": "stderr",
     "output_type": "stream",
     "text": [
      "127.0.0.1 - - [16/Nov/2018 10:19:05] \"POST /_dash-update-component HTTP/1.1\" 200 -\n"
     ]
    },
    {
     "name": "stdout",
     "output_type": "stream",
     "text": [
      "This is the format of your plot grid:\n",
      "[ (1,1) x1,y1 ]\n",
      "[ (2,1) x1,y2 ]\n",
      "\n"
     ]
    },
    {
     "name": "stderr",
     "output_type": "stream",
     "text": [
      "127.0.0.1 - - [16/Nov/2018 10:19:07] \"POST /_dash-update-component HTTP/1.1\" 200 -\n",
      "127.0.0.1 - - [16/Nov/2018 10:19:09] \"POST /_dash-update-component HTTP/1.1\" 200 -\n"
     ]
    },
    {
     "name": "stdout",
     "output_type": "stream",
     "text": [
      "This is the format of your plot grid:\n",
      "[ (1,1) x1,y1 ]\n",
      "[ (2,1) x1,y2 ]\n",
      "\n"
     ]
    },
    {
     "name": "stderr",
     "output_type": "stream",
     "text": [
      "127.0.0.1 - - [16/Nov/2018 10:19:11] \"POST /_dash-update-component HTTP/1.1\" 200 -\n"
     ]
    },
    {
     "name": "stdout",
     "output_type": "stream",
     "text": [
      "This is the format of your plot grid:\n",
      "[ (1,1) x1,y1 ]\n",
      "[ (2,1) x1,y2 ]\n",
      "\n"
     ]
    },
    {
     "name": "stderr",
     "output_type": "stream",
     "text": [
      "127.0.0.1 - - [16/Nov/2018 10:19:12] \"POST /_dash-update-component HTTP/1.1\" 200 -\n"
     ]
    },
    {
     "name": "stdout",
     "output_type": "stream",
     "text": [
      "This is the format of your plot grid:\n",
      "[ (1,1) x1,y1 ]\n",
      "[ (2,1) x1,y2 ]\n",
      "\n"
     ]
    },
    {
     "name": "stderr",
     "output_type": "stream",
     "text": [
      "127.0.0.1 - - [16/Nov/2018 10:19:14] \"POST /_dash-update-component HTTP/1.1\" 200 -\n"
     ]
    },
    {
     "name": "stdout",
     "output_type": "stream",
     "text": [
      "This is the format of your plot grid:\n",
      "[ (1,1) x1,y1 ]\n",
      "[ (2,1) x1,y2 ]\n",
      "\n",
      "This is the format of your plot grid:\n",
      "[ (1,1) x1,y1 ]\n",
      "[ (2,1) x1,y2 ]\n",
      "\n"
     ]
    },
    {
     "name": "stderr",
     "output_type": "stream",
     "text": [
      "127.0.0.1 - - [16/Nov/2018 10:19:15] \"POST /_dash-update-component HTTP/1.1\" 200 -\n",
      "127.0.0.1 - - [16/Nov/2018 10:19:16] \"POST /_dash-update-component HTTP/1.1\" 200 -\n"
     ]
    },
    {
     "name": "stdout",
     "output_type": "stream",
     "text": [
      "This is the format of your plot grid:\n",
      "[ (1,1) x1,y1 ]\n",
      "[ (2,1) x1,y2 ]\n",
      "\n"
     ]
    },
    {
     "name": "stderr",
     "output_type": "stream",
     "text": [
      "127.0.0.1 - - [16/Nov/2018 10:19:17] \"POST /_dash-update-component HTTP/1.1\" 200 -\n"
     ]
    },
    {
     "name": "stdout",
     "output_type": "stream",
     "text": [
      "This is the format of your plot grid:\n",
      "[ (1,1) x1,y1 ]\n",
      "[ (2,1) x1,y2 ]\n",
      "\n"
     ]
    },
    {
     "name": "stderr",
     "output_type": "stream",
     "text": [
      "127.0.0.1 - - [16/Nov/2018 10:19:20] \"POST /_dash-update-component HTTP/1.1\" 200 -\n"
     ]
    },
    {
     "name": "stdout",
     "output_type": "stream",
     "text": [
      "This is the format of your plot grid:\n",
      "[ (1,1) x1,y1 ]\n",
      "[ (2,1) x1,y2 ]\n",
      "\n",
      "This is the format of your plot grid:\n",
      "[ (1,1) x1,y1 ]\n",
      "[ (2,1) x1,y2 ]\n",
      "\n"
     ]
    },
    {
     "name": "stderr",
     "output_type": "stream",
     "text": [
      "127.0.0.1 - - [16/Nov/2018 10:19:21] \"POST /_dash-update-component HTTP/1.1\" 200 -\n",
      "127.0.0.1 - - [16/Nov/2018 10:19:23] \"POST /_dash-update-component HTTP/1.1\" 200 -\n"
     ]
    },
    {
     "name": "stdout",
     "output_type": "stream",
     "text": [
      "This is the format of your plot grid:\n",
      "[ (1,1) x1,y1 ]\n",
      "[ (2,1) x1,y2 ]\n",
      "\n",
      "This is the format of your plot grid:\n",
      "[ (1,1) x1,y1 ]\n",
      "[ (2,1) x1,y2 ]\n",
      "\n"
     ]
    },
    {
     "name": "stderr",
     "output_type": "stream",
     "text": [
      "127.0.0.1 - - [16/Nov/2018 10:19:25] \"POST /_dash-update-component HTTP/1.1\" 200 -\n",
      "127.0.0.1 - - [16/Nov/2018 10:19:28] \"POST /_dash-update-component HTTP/1.1\" 200 -\n"
     ]
    },
    {
     "name": "stdout",
     "output_type": "stream",
     "text": [
      "This is the format of your plot grid:\n",
      "[ (1,1) x1,y1 ]\n",
      "[ (2,1) x1,y2 ]\n",
      "\n",
      "This is the format of your plot grid:\n",
      "[ (1,1) x1,y1 ]\n",
      "[ (2,1) x1,y2 ]\n",
      "\n"
     ]
    },
    {
     "name": "stderr",
     "output_type": "stream",
     "text": [
      "127.0.0.1 - - [16/Nov/2018 10:19:30] \"POST /_dash-update-component HTTP/1.1\" 200 -\n"
     ]
    }
   ],
   "source": [
    "app = dash.Dash()\n",
    "app.css.append_css({\"external_url\": \"https://codepen.io/chriddyp/pen/bWLwgP.css\"})\n",
    "\n",
    "app.layout = html.Div(\n",
    "    [html.Div([dcc.Graph(id='residus_graph')]\n",
    "    ,style={'height':'80%','padding': '0px 20px 20px 20px'}),\n",
    "    html.Div([\n",
    "        html.H5(\"Materials amb mitjana de tones per any més grans que:\"),\n",
    "        dcc.Slider(\n",
    "            id='avg-tones',\n",
    "            step = pas,\n",
    "            min=minim,\n",
    "            max=maxim,\n",
    "            value=maxim/2,       \n",
    "            marks={ str(tones): {'label':str(tones)} for tones in range(minim,maxim+pas,pas)})]\n",
    "            ,style={'margin':'auto','height':'20%','width': '70%', 'padding': '0px 0px 40px 40px',\"display\":'inline_block'})\n",
    "])\n",
    "\n",
    "\n",
    "@app.callback(\n",
    "    dash.dependencies.Output('residus_graph', 'figure'),\n",
    "    [dash.dependencies.Input('avg-tones', 'value')])\n",
    "\n",
    "def update_figure(avg_tones):\n",
    "    fig = tools.make_subplots(rows=2, cols=1,shared_xaxes=True, vertical_spacing=0.001)\n",
    "    traces = []\n",
    "    \n",
    "    filtered= df[df['NomMaterial'] ==\"Resta\"]\n",
    "    trace_Resta = go.Scatter(\n",
    "                            x=filtered['Anyo'],y=filtered['Quantitat'],text=\"Resta\",\n",
    "                            mode='lines+markers',\n",
    "                            opacity=0.7,\n",
    "                            marker={\n",
    "                                'size': 15,\n",
    "                                'line': {'width': 0.5, 'color': 'white'}\n",
    "                            },\n",
    "                            name=\"Resta\"\n",
    "                        )   \n",
    "    filtered = df[df['NomMaterial'].isin(materials)].groupby(\"Anyo\").sum()\n",
    "    trace_Total= go.Scatter(                      \n",
    "                            x=filtered.index,y=filtered['Quantitat'],text=\"Total Materials\",\n",
    "                            mode='lines+markers',\n",
    "                            opacity=0.7,\n",
    "                            marker={\n",
    "                                'size': 15,\n",
    "                                'line': {'width': 0.5, 'color': 'white'}\n",
    "                            },\n",
    "                            name=\"Total Materials\",\n",
    "                            \n",
    "                        )   \n",
    "    \n",
    "    fig.append_trace(trace_Resta, 1, 1)\n",
    "    fig.append_trace(trace_Total, 1, 1)\n",
    "    \n",
    "    for i in materials :\n",
    "        filtered= df[df['NomMaterial'] == i]\n",
    "        y=filtered['Quantitat']\n",
    "        if (y.mean()>avg_tones) :\n",
    "            x=filtered['Anyo']\n",
    "            traces.append(go.Scatter(x=x,y=y,text=i,mode='markers',opacity=0.7,\n",
    "                                marker={\n",
    "                                    'size': 15,\n",
    "                                    'line': {'width': 0.5, 'color': 'white'}\n",
    "                                }, name=i[0:30])) \n",
    "    for trace in traces:\n",
    "        fig.append_trace(trace, 2, 1)\n",
    "\n",
    "\n",
    "    fig['layout'].update(height=600,title=\"Residus a Sabadell\", margin={'l': 50, 'b': 40, 't': 40, 'r': 50},\n",
    "              yaxis1={\"title\":\"Totals\"}, yaxis2={\"title\":\"Materials\"},hovermode=\"closest\")\n",
    "    return fig\n",
    "\n",
    "\n",
    "if __name__ == '__main__':\n",
    "    app.run_server()\n",
    "    \n",
    "    "
   ]
  },
  {
   "cell_type": "code",
   "execution_count": null,
   "metadata": {
    "collapsed": true
   },
   "outputs": [],
   "source": []
  },
  {
   "cell_type": "code",
   "execution_count": null,
   "metadata": {
    "collapsed": true
   },
   "outputs": [],
   "source": []
  },
  {
   "cell_type": "code",
   "execution_count": null,
   "metadata": {
    "collapsed": true
   },
   "outputs": [],
   "source": []
  }
 ],
 "metadata": {
  "kernelspec": {
   "display_name": "Python 3",
   "language": "python",
   "name": "python3"
  },
  "language_info": {
   "codemirror_mode": {
    "name": "ipython",
    "version": 3
   },
   "file_extension": ".py",
   "mimetype": "text/x-python",
   "name": "python",
   "nbconvert_exporter": "python",
   "pygments_lexer": "ipython3",
   "version": "3.6.4"
  }
 },
 "nbformat": 4,
 "nbformat_minor": 2
}
