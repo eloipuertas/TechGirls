{
 "cells": [
  {
   "cell_type": "markdown",
   "metadata": {
    "collapsed": true
   },
   "source": [
    "# Scrapping de dades d'internet\n",
    "\n",
    "Finalment veurem com fer scrapping de dades de pàgines web. Fer scrapping vol dir agafar informació directament de les pàgines web, sense passar per un fitxer de dades ni per un API. En aquest cas el que fem és obrir una pàgina web i amb l'ajuda de python el que fem és buscar les dades que necessitem en el document HTML que ens envia el servidor web. \n",
    "Fer scrapping no és senzill i hi ha certes pàgines web que no deixen que es pugui fer, intenten posar-vos-ho difícil. \n",
    "\n",
    "En el nostre cas anirem a la web dels cinemes eix macià de sabadell i consultarem la cartellera per avui. Buscarem les pelis que comencen a l'hora que ens interessa (amb 1.30h de marge!) i mirarem que sigui apte per la nostra edat. De les pel·lícules seleccionades obrirem el trailer de la peli que millor valorada estigui en la base de dades que hem usat abans (l'api ens donarà més informació que la de la pàgina del cinema!!!)\n",
    "\n",
    "Per fer això el que farem serà controlar de forma automàtica un nou navegador que s'obrirà sol i farà les accions necessàries. Mireu ben bé com es va movent el nou navegador de forma autònoma i gaudiu del trailer!\n",
    "\n"
   ]
  },
  {
   "cell_type": "code",
   "execution_count": 1,
   "metadata": {},
   "outputs": [
    {
     "name": "stdout",
     "output_type": "stream",
     "text": [
      "A la cartellera hi ha...:\n",
      "http://www.google.es/search?q=animales%20fant%C3%A1sticos%3A%20los%20cr%C3%ADmenes%20de%20grindelwald%20site%3Aimdb.com\n",
      "http://www.google.es/search?q=bohemian%20rhapsody%20site%3Aimdb.com\n",
      "http://www.google.es/search?q=el%20cascanueces%20y%20los%20cuatro%20reinos%20site%3Aimdb.com\n",
      "http://www.google.es/search?q=el%20desentierro%20site%3Aimdb.com\n",
      "http://www.google.es/search?q=el%20fot%C3%B3grafo%20de%20mauthausen%20site%3Aimdb.com\n",
      "http://www.google.es/search?q=la%20noche%20de%20halloween%20site%3Aimdb.com\n",
      "http://www.google.es/search?q=malos%20tiempos%20en%20el%20royale%20site%3Aimdb.com\n",
      "http://www.google.es/search?q=millennium%3A%20lo%20que%20no%20te%20mata%20te%20hace%20m%C3%A1s%20fuerte%20site%3Aimdb.com\n",
      "http://www.google.es/search?q=overlord%20site%3Aimdb.com\n",
      "http://www.google.es/search?q=pesadilla%202%3A%20noche%20de%20%20halloween%20site%3Aimdb.com\n",
      "http://www.google.es/search?q=smallfoot%20site%3Aimdb.com\n",
      "http://www.google.es/search?q=vose%20animales%20fant%C3%A1sticos%3A%20los%20cr%C3%ADmenes%20de....%20site%3Aimdb.com\n",
      "Seleccionades...:\n",
      "2018-11-16 - ANIMALES FANTÁSTICOS: LOS CRÍMENES DE GRINDELWALD(7 AÑOS) ['16:00', '19:00', '20:15', '22:00']*** 7.3\n",
      "2018-10-31 - BOHEMIAN RHAPSODY(12 AÑOS) ['16:00', '19:00', '22:00']*** 8.3\n",
      "2018-11-16 - EL DESENTIERRO(16 AÑOS) ['16:00', '18:15', '20:30', '22:45']*** 0\n",
      "2018-10-26 - EL FOTÓGRAFO DE MAUTHAUSEN(16 AÑOS) ['16:00', '18:15', '20:30', '22:45']*** 6.2\n",
      "2018-10-26 - LA NOCHE DE HALLOWEEN(16 AÑOS) ['20:15', '22:30']*** 6.5\n",
      "2018-11-16 - MALOS TIEMPOS EN EL ROYALE(16 AÑOS) ['16:00', '19:00', '22:00']*** 6.6\n",
      "2018-10-26 - MILLENNIUM: LO QUE NO TE MATA TE HACE MÁS FUERTE(12 AÑOS) ['16:00', '18:15', '20:30', '22:45']*** 5.8\n",
      "2018-10-10 - OVERLORD(18 AÑOS) ['20:15', '22:30']*** 6.8\n",
      "Clika!\n",
      "He acabat!\n"
     ]
    }
   ],
   "source": [
    "from selenium import webdriver\n",
    "from selenium.webdriver.common.action_chains import ActionChains\n",
    "from selenium.webdriver.common.by import By\n",
    "from selenium.webdriver.support.ui import WebDriverWait\n",
    "from selenium.webdriver.support import expected_conditions as EC\n",
    "import requests \n",
    "import datetime\n",
    "import urllib\n",
    "import time\n",
    "\n",
    "\n",
    "edat = 15\n",
    "hora = \"19:30\"\n",
    "\n",
    "\n",
    "cinema = 'http://www.cinemeseixmacia.com/' #Poseu el nom de la pàgina web\n",
    "navegador = webdriver.Chrome(\"chromedriver.exe\") #Obrir un navegador Chrome\n",
    "#navegador.implicitly_wait(10)\n",
    "navegador.get(cinema)\n",
    "\n",
    "hora = datetime.datetime.strptime(hora, '%H:%M')\n",
    "pelis_seleccionades=[]\n",
    "\n",
    "elements = navegador.find_elements_by_xpath('//*[@id=\"rt-mainbody\"]/div/div[3]/div')\n",
    "print(\"A la cartellera hi ha...:\")\n",
    "for e in elements:\n",
    "     if e.is_displayed():   \n",
    "        e = e.find_element_by_class_name(\"text\")\n",
    "        peli={}\n",
    "        peli[\"puntuacio\"] = 0\n",
    "        peli[\"release\"] = \"\"\n",
    "        peli[\"classi\"] = e.find_element_by_id(\"dadespeli\").find_element_by_class_name(\"classi\").get_attribute('textContent')\n",
    "        horaris = e.find_elements_by_class_name(\"horasessio\")\n",
    "        peli[\"horaris\"] = [datetime.datetime.strptime(h.find_element_by_tag_name(\"button\").get_attribute('textContent').strip(), '%H:%M') for h in horaris]\n",
    "        peli[\"nom\"] = e.find_element_by_tag_name(\"a\").get_attribute(\"name\").strip()\n",
    "        if any ([( datetime.timedelta(minutes=0, hours=0)  <= x-hora <= datetime.timedelta( hours=1, minutes=30)) for x in peli[\"horaris\"]]):\n",
    "            if peli[\"classi\"] == \"APTA\" or edat > int(peli[\"classi\"][0:2]) :\n",
    "                peli[\"trailer\"] = e.find_element_by_class_name(\"peli-boto-trailer\")\n",
    "                pelis_seleccionades.append(peli)\n",
    "        url_google = 'http://www.google.es/search?q='+ urllib.parse.quote(peli[\"nom\"].lower()+\" site:imdb.com\") \n",
    "        print(url_google)\n",
    "\n",
    "print(\"Seleccionades...:\")\n",
    "for peli in pelis_seleccionades:\n",
    "    \n",
    "    url = \"https://api.themoviedb.org/3/search/movie\"\n",
    "    parameters = {\"include_adult\":False, \"page\":1, \"region\": \"ES\", \"query\": peli[\"nom\"],\"language\":\"es-ES\", \"api_key\":\"ad38c5a701d46fed6b0ebc7c3d25dd49\"  }\n",
    "    response = requests.get(url,params=parameters)\n",
    "    if (int(response.headers[\"x-ratelimit-remaining\"])) > 0:\n",
    "        data = response.json()\n",
    "        if len(data[\"results\"]) > 0 :\n",
    "            millor_result = data[\"results\"][0]\n",
    "            peli[\"puntuacio\"] = millor_result[\"vote_average\"]\n",
    "            peli[\"release\"] = millor_result[\"release_date\"]\n",
    "    else:\n",
    "        print(\"Torna-ho a intentar\")\n",
    "    print(peli[\"release\"]+\" - \"+peli[\"nom\"]+ \"(\"+peli[\"classi\"]+\") \"+ str([ y.time().strftime(\"%H:%M\") for y in peli[\"horaris\"]]) + \"*** \" + str(peli[\"puntuacio\"]))\n",
    "\n",
    "\n",
    "ordenada = sorted(pelis_seleccionades, key=lambda k: k['puntuacio'], reverse=True)\n",
    "ActionChains(navegador).move_to_element(ordenada[0][\"trailer\"]).perform()\n",
    "time.sleep(3)\n",
    "navegador.execute_script(\"arguments[0].click();\", ordenada[0][\"trailer\"])\n",
    "time.sleep(3)\n",
    "wait = WebDriverWait(navegador, 5)\n",
    "wait.until(EC.frame_to_be_available_and_switch_to_it((By.TAG_NAME, 'iframe')))\n",
    "try:\n",
    "    wait = WebDriverWait(navegador, 5)\n",
    "    wait.until(EC.presence_of_element_located((By.ID, \"player\")))\n",
    "    navegador.find_element_by_class_name(\"ytp-large-play-button ytp-button\").click()\n",
    "except (TimeOutException):\n",
    "    print(\"Clika!\")\n",
    "\n",
    "\n",
    "\n",
    "print(\"He acabat!\")\n",
    "\n"
   ]
  },
  {
   "cell_type": "code",
   "execution_count": null,
   "metadata": {
    "collapsed": true
   },
   "outputs": [],
   "source": []
  },
  {
   "cell_type": "code",
   "execution_count": null,
   "metadata": {
    "collapsed": true
   },
   "outputs": [],
   "source": []
  }
 ],
 "metadata": {
  "kernelspec": {
   "display_name": "Python 3",
   "language": "python",
   "name": "python3"
  },
  "language_info": {
   "codemirror_mode": {
    "name": "ipython",
    "version": 3
   },
   "file_extension": ".py",
   "mimetype": "text/x-python",
   "name": "python",
   "nbconvert_exporter": "python",
   "pygments_lexer": "ipython3",
   "version": "3.6.4"
  }
 },
 "nbformat": 4,
 "nbformat_minor": 2
}
