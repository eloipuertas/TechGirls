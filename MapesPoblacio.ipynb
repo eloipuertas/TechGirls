{
 "cells": [
  {
   "cell_type": "markdown",
   "metadata": {},
   "source": [
    "# Mapes de la Població a partir del padró"
   ]
  },
  {
   "cell_type": "markdown",
   "metadata": {},
   "source": [
    "A partir de les dades del padró (població de cada districte per sexe i any de naixement) que formen part de les dades obertes proporcionades per l'Ajuntament i que podem trovar [aquí](http://opendata.sabadell.cat/ca/?option=com_content&view=article&id=4729&Itemid=209), però que ja ens hem baixat prèviament i anomenem com:   \n",
    "  \n",
    "**PadroDistricteSexeAnyNaixement2015.csv**    \n",
    "  \n",
    "Les següents línies ens permeten agafar les dades presents en el padró i agruparles de la obtenint per cada districte: la mitja d'edat dels homes, la mitja d'edat de les dones, el total d'homes, el total de dones i la població total.  \n",
    "  \n",
    "Podem veure la transformació de les dades en la taula que apareix al final del codi que hi ha a continuació:"
   ]
  },
  {
   "cell_type": "code",
   "execution_count": 1,
   "metadata": {},
   "outputs": [
    {
     "data": {
      "text/html": [
       "<div>\n",
       "<style scoped>\n",
       "    .dataframe tbody tr th:only-of-type {\n",
       "        vertical-align: middle;\n",
       "    }\n",
       "\n",
       "    .dataframe tbody tr th {\n",
       "        vertical-align: top;\n",
       "    }\n",
       "\n",
       "    .dataframe thead th {\n",
       "        text-align: right;\n",
       "    }\n",
       "</style>\n",
       "<table border=\"1\" class=\"dataframe\">\n",
       "  <thead>\n",
       "    <tr style=\"text-align: right;\">\n",
       "      <th></th>\n",
       "      <th>Edat D</th>\n",
       "      <th>Edat H</th>\n",
       "      <th>Total D</th>\n",
       "      <th>Total H</th>\n",
       "      <th>Districte</th>\n",
       "      <th>Total</th>\n",
       "    </tr>\n",
       "    <tr>\n",
       "      <th>Districte</th>\n",
       "      <th></th>\n",
       "      <th></th>\n",
       "      <th></th>\n",
       "      <th></th>\n",
       "      <th></th>\n",
       "      <th></th>\n",
       "    </tr>\n",
       "  </thead>\n",
       "  <tbody>\n",
       "    <tr>\n",
       "      <th>1</th>\n",
       "      <td>55.537736</td>\n",
       "      <td>54.000000</td>\n",
       "      <td>27762</td>\n",
       "      <td>25050</td>\n",
       "      <td>1</td>\n",
       "      <td>52812</td>\n",
       "    </tr>\n",
       "    <tr>\n",
       "      <th>2</th>\n",
       "      <td>54.509804</td>\n",
       "      <td>54.000000</td>\n",
       "      <td>12561</td>\n",
       "      <td>11719</td>\n",
       "      <td>2</td>\n",
       "      <td>24280</td>\n",
       "    </tr>\n",
       "    <tr>\n",
       "      <th>3</th>\n",
       "      <td>55.000000</td>\n",
       "      <td>54.568627</td>\n",
       "      <td>17661</td>\n",
       "      <td>17081</td>\n",
       "      <td>3</td>\n",
       "      <td>34742</td>\n",
       "    </tr>\n",
       "    <tr>\n",
       "      <th>4</th>\n",
       "      <td>54.539216</td>\n",
       "      <td>52.500000</td>\n",
       "      <td>19627</td>\n",
       "      <td>18918</td>\n",
       "      <td>4</td>\n",
       "      <td>38545</td>\n",
       "    </tr>\n",
       "    <tr>\n",
       "      <th>5</th>\n",
       "      <td>54.069307</td>\n",
       "      <td>52.551020</td>\n",
       "      <td>9958</td>\n",
       "      <td>9590</td>\n",
       "      <td>5</td>\n",
       "      <td>19548</td>\n",
       "    </tr>\n",
       "    <tr>\n",
       "      <th>6</th>\n",
       "      <td>54.500000</td>\n",
       "      <td>54.049505</td>\n",
       "      <td>14803</td>\n",
       "      <td>14366</td>\n",
       "      <td>6</td>\n",
       "      <td>29169</td>\n",
       "    </tr>\n",
       "    <tr>\n",
       "      <th>7</th>\n",
       "      <td>53.030303</td>\n",
       "      <td>50.500000</td>\n",
       "      <td>4312</td>\n",
       "      <td>4394</td>\n",
       "      <td>7</td>\n",
       "      <td>8706</td>\n",
       "    </tr>\n",
       "  </tbody>\n",
       "</table>\n",
       "</div>"
      ],
      "text/plain": [
       "              Edat D     Edat H  Total D  Total H Districte  Total\n",
       "Districte                                                         \n",
       "1          55.537736  54.000000    27762    25050         1  52812\n",
       "2          54.509804  54.000000    12561    11719         2  24280\n",
       "3          55.000000  54.568627    17661    17081         3  34742\n",
       "4          54.539216  52.500000    19627    18918         4  38545\n",
       "5          54.069307  52.551020     9958     9590         5  19548\n",
       "6          54.500000  54.049505    14803    14366         6  29169\n",
       "7          53.030303  50.500000     4312     4394         7   8706"
      ]
     },
     "execution_count": 1,
     "metadata": {},
     "output_type": "execute_result"
    }
   ],
   "source": [
    "import folium\n",
    "import kml2geojson\n",
    "import geojson\n",
    "import pandas as pd\n",
    "import seaborn\n",
    "\n",
    "df = pd.read_csv('DadesSabadell/PadroDistricteSexeAnyNaixement2015.csv')\n",
    "df['Edat'] = 2018 - df['Any_Naixement']\n",
    "grup = df.groupby([\"Districte\",\"Sexe\"],as_index=False)\n",
    "\n",
    "edat_Df = pd.pivot_table(grup[\"Edat\"].mean(),columns=[\"Sexe\"], index=[\"Districte\"], values=[\"Edat\"])\n",
    "habitants_Df = pd.pivot_table(grup[\"Total\"].sum(),columns=[\"Sexe\"], index=[\"Districte\"], values=[\"Total\"])\n",
    "\n",
    "tot_df = pd.concat([edat_Df, habitants_Df], axis=1)\n",
    "tot_df['Districte'] = tot_df.index.astype(str)\n",
    "\n",
    "tot_df.columns=[' '.join(col).strip() for col in tot_df.columns.values]\n",
    "tot_df['Total'] = tot_df['Total H'] + tot_df['Total D']\n",
    "\n",
    "tot_df"
   ]
  },
  {
   "cell_type": "markdown",
   "metadata": {},
   "source": [
    "A continuació agafem les dades per plasmar-les en un mapa. El mateix portal de dades obertes ens dóna informació geogràfica de cada districte (\"districtes.geojson\") els que ens permet dibuixar-ne el contorn i representar a través de diferents intensitats de color les dades numèriques.  \n",
    "  \n",
    "Podeu provar de canviar la linia on apareix **'Total'** per qualsevol nom de les columnes de la taula anterior per canviar les representacions del mapa (**'Edat D'**,**'Edat H'**,**'Total D'**,**'Total H'**).  \n",
    "  \n",
    "També podeu intentar canviar els colors de la gràfica substituïnt el valor **'YlOrRd'** per **'BuPu'**, **'GnBu'**, **'OrRd'**, **'PuBu'**, **''PuBuGn'**, **'PuRd'**, **'RdPu'**, **'YlGn'** o **'YlGnBu'**."
   ]
  },
  {
   "cell_type": "code",
   "execution_count": null,
   "metadata": {},
   "outputs": [],
   "source": [
    "district_geo = 'DadesSabadell/districtes.geojson'\n",
    "\n",
    "map1 = folium.Map(location=[41.54329, 2.10942],zoom_start=13)\n",
    "map1.choropleth(geo_data=district_geo, \n",
    "              data = tot_df,\n",
    "              columns = ['Districte', 'Total'],\n",
    "              key_on = 'feature.properties.description',\n",
    "              fill_color='YlOrRd', \n",
    "              fill_opacity=0.7,\n",
    "              legend_name = 'Població per districte')\n",
    "\n",
    "\n",
    "map1.save('DadesSabadell/mapa.html')"
   ]
  },
  {
   "cell_type": "markdown",
   "metadata": {},
   "source": [
    "Finalment podeu veure la vostra creació en el següent link:  \n",
    "\n",
    "[Prem aquí i consulta el Mapa Generat... ](DadesSabadell/mapa.html)"
   ]
  }
 ],
 "metadata": {
  "kernelspec": {
   "display_name": "Python 3",
   "language": "python",
   "name": "python3"
  },
  "language_info": {
   "codemirror_mode": {
    "name": "ipython",
    "version": 2
   },
   "file_extension": ".py",
   "mimetype": "text/x-python",
   "name": "python",
   "nbconvert_exporter": "python",
   "pygments_lexer": "ipython2",
   "version": "2.7.15rc1"
  }
 },
 "nbformat": 4,
 "nbformat_minor": 2
}
