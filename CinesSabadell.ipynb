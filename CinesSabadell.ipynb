{
 "cells": [
  {
   "cell_type": "code",
   "execution_count": null,
   "metadata": {
    "collapsed": true
   },
   "outputs": [],
   "source": []
  },
  {
   "cell_type": "code",
   "execution_count": 31,
   "metadata": {},
   "outputs": [
    {
     "name": "stdout",
     "output_type": "stream",
     "text": [
      "A la cartellera hi ha...:\n",
      "http://www.google.es/search?q=bohemian%20rhapsody%20site%3Aimdb.com\n",
      "http://www.google.es/search?q=el%20cascanueces%20y%20los%20cuatro%20reinos%20site%3Aimdb.com\n",
      "http://www.google.es/search?q=el%20fot%C3%B3grafo%20de%20mauthausen%20site%3Aimdb.com\n",
      "http://www.google.es/search?q=hunter%20killer%20site%3Aimdb.com\n",
      "http://www.google.es/search?q=infiltrado%20en%20el%20kkklan%20site%3Aimdb.com\n",
      "http://www.google.es/search?q=la%20noche%20de%20halloween%20site%3Aimdb.com\n",
      "http://www.google.es/search?q=overlord%20site%3Aimdb.com\n",
      "http://www.google.es/search?q=pesadilla%202%3A%20noche%20de%20%20halloween%20site%3Aimdb.com\n",
      "http://www.google.es/search?q=smallfoot%20site%3Aimdb.com\n",
      "http://www.google.es/search?q=tu%20hijo%20site%3Aimdb.com\n",
      "http://www.google.es/search?q=venom%20site%3Aimdb.com\n",
      "http://www.google.es/search?q=vose%20millennium%3A%20lo%20que%20no%20te%20mata%20te%20hace%20m%C3%A1s...%20site%3Aimdb.com\n",
      "http://www.google.es/search?q=animales%20fant%C3%A1sticos%3A%20los%20cr%C3%ADmenes%20de%20grindelwald%20site%3Aimdb.com\n",
      "http://www.google.es/search?q=el%20desentierro%20site%3Aimdb.com\n",
      "http://www.google.es/search?q=malos%20tiempos%20en%20el%20royale%20site%3Aimdb.com\n",
      "http://www.google.es/search?q=millennium%3A%20lo%20que%20no%20te%20mata%20te%20hace%20m%C3%A1s%20fuerte%20site%3Aimdb.com\n",
      "http://www.google.es/search?q=vose%20animales%20fant%C3%A1sticos%3A%20los%20cr%C3%ADmenes%20de....%20site%3Aimdb.com\n",
      "Seleccionades...:\n"
     ]
    },
    {
     "ename": "KeyError",
     "evalue": "'x-ratelimit-remaining'",
     "output_type": "error",
     "traceback": [
      "\u001b[0;31m---------------------------------------------------------------------------\u001b[0m",
      "\u001b[0;31mKeyError\u001b[0m                                  Traceback (most recent call last)",
      "\u001b[0;32m<ipython-input-31-b57365747e52>\u001b[0m in \u001b[0;36m<module>\u001b[0;34m()\u001b[0m\n\u001b[1;32m     47\u001b[0m     \u001b[0mparameters\u001b[0m \u001b[0;34m=\u001b[0m \u001b[0;34m{\u001b[0m\u001b[0;34m\"include_adult\"\u001b[0m\u001b[0;34m:\u001b[0m\u001b[0;32mFalse\u001b[0m\u001b[0;34m,\u001b[0m \u001b[0;34m\"page\"\u001b[0m\u001b[0;34m:\u001b[0m\u001b[0;36m1\u001b[0m\u001b[0;34m,\u001b[0m \u001b[0;34m\"region\"\u001b[0m\u001b[0;34m:\u001b[0m \u001b[0;34m\"ES\"\u001b[0m\u001b[0;34m,\u001b[0m \u001b[0;34m\"query\"\u001b[0m\u001b[0;34m:\u001b[0m \u001b[0mpeli\u001b[0m\u001b[0;34m[\u001b[0m\u001b[0;34m\"nom\"\u001b[0m\u001b[0;34m]\u001b[0m\u001b[0;34m,\u001b[0m\u001b[0;34m\"language\"\u001b[0m\u001b[0;34m:\u001b[0m\u001b[0;34m\"es-ES\"\u001b[0m\u001b[0;34m,\u001b[0m \u001b[0;34m\"api_key\"\u001b[0m\u001b[0;34m:\u001b[0m\u001b[0;34m\"ad38c5a701d46fed6b0ebc7c3d25dd49\"\u001b[0m  \u001b[0;34m}\u001b[0m\u001b[0;34m\u001b[0m\u001b[0m\n\u001b[1;32m     48\u001b[0m     \u001b[0mresponse\u001b[0m \u001b[0;34m=\u001b[0m \u001b[0mrequests\u001b[0m\u001b[0;34m.\u001b[0m\u001b[0mget\u001b[0m\u001b[0;34m(\u001b[0m\u001b[0murl\u001b[0m\u001b[0;34m,\u001b[0m\u001b[0mparams\u001b[0m\u001b[0;34m=\u001b[0m\u001b[0mparameters\u001b[0m\u001b[0;34m)\u001b[0m\u001b[0;34m\u001b[0m\u001b[0m\n\u001b[0;32m---> 49\u001b[0;31m     \u001b[0;32mif\u001b[0m \u001b[0;34m(\u001b[0m\u001b[0mint\u001b[0m\u001b[0;34m(\u001b[0m\u001b[0mresponse\u001b[0m\u001b[0;34m.\u001b[0m\u001b[0mheaders\u001b[0m\u001b[0;34m[\u001b[0m\u001b[0;34m\"x-ratelimit-remaining\"\u001b[0m\u001b[0;34m]\u001b[0m\u001b[0;34m)\u001b[0m\u001b[0;34m)\u001b[0m \u001b[0;34m>\u001b[0m \u001b[0;36m0\u001b[0m\u001b[0;34m:\u001b[0m\u001b[0;34m\u001b[0m\u001b[0m\n\u001b[0m\u001b[1;32m     50\u001b[0m         \u001b[0mdata\u001b[0m \u001b[0;34m=\u001b[0m \u001b[0mresponse\u001b[0m\u001b[0;34m.\u001b[0m\u001b[0mjson\u001b[0m\u001b[0;34m(\u001b[0m\u001b[0;34m)\u001b[0m\u001b[0;34m\u001b[0m\u001b[0m\n\u001b[1;32m     51\u001b[0m         \u001b[0;32mif\u001b[0m \u001b[0mlen\u001b[0m\u001b[0;34m(\u001b[0m\u001b[0mdata\u001b[0m\u001b[0;34m[\u001b[0m\u001b[0;34m\"results\"\u001b[0m\u001b[0;34m]\u001b[0m\u001b[0;34m)\u001b[0m \u001b[0;34m>\u001b[0m \u001b[0;36m0\u001b[0m \u001b[0;34m:\u001b[0m\u001b[0;34m\u001b[0m\u001b[0m\n",
      "\u001b[0;32m~/anaconda2/envs/py36/lib/python3.6/site-packages/requests/structures.py\u001b[0m in \u001b[0;36m__getitem__\u001b[0;34m(self, key)\u001b[0m\n\u001b[1;32m     52\u001b[0m \u001b[0;34m\u001b[0m\u001b[0m\n\u001b[1;32m     53\u001b[0m     \u001b[0;32mdef\u001b[0m \u001b[0m__getitem__\u001b[0m\u001b[0;34m(\u001b[0m\u001b[0mself\u001b[0m\u001b[0;34m,\u001b[0m \u001b[0mkey\u001b[0m\u001b[0;34m)\u001b[0m\u001b[0;34m:\u001b[0m\u001b[0;34m\u001b[0m\u001b[0m\n\u001b[0;32m---> 54\u001b[0;31m         \u001b[0;32mreturn\u001b[0m \u001b[0mself\u001b[0m\u001b[0;34m.\u001b[0m\u001b[0m_store\u001b[0m\u001b[0;34m[\u001b[0m\u001b[0mkey\u001b[0m\u001b[0;34m.\u001b[0m\u001b[0mlower\u001b[0m\u001b[0;34m(\u001b[0m\u001b[0;34m)\u001b[0m\u001b[0;34m]\u001b[0m\u001b[0;34m[\u001b[0m\u001b[0;36m1\u001b[0m\u001b[0;34m]\u001b[0m\u001b[0;34m\u001b[0m\u001b[0m\n\u001b[0m\u001b[1;32m     55\u001b[0m \u001b[0;34m\u001b[0m\u001b[0m\n\u001b[1;32m     56\u001b[0m     \u001b[0;32mdef\u001b[0m \u001b[0m__delitem__\u001b[0m\u001b[0;34m(\u001b[0m\u001b[0mself\u001b[0m\u001b[0;34m,\u001b[0m \u001b[0mkey\u001b[0m\u001b[0;34m)\u001b[0m\u001b[0;34m:\u001b[0m\u001b[0;34m\u001b[0m\u001b[0m\n",
      "\u001b[0;31mKeyError\u001b[0m: 'x-ratelimit-remaining'"
     ]
    }
   ],
   "source": [
    "from selenium import webdriver\n",
    "from selenium.webdriver.common.action_chains import ActionChains\n",
    "from selenium.webdriver.common.by import By\n",
    "from selenium.webdriver.support.ui import WebDriverWait\n",
    "from selenium.webdriver.support import expected_conditions as EC\n",
    "import requests \n",
    "import datetime\n",
    "import urllib\n",
    "import time\n",
    "\n",
    "\n",
    "edat = 40\n",
    "hora = \"21:30\"\n",
    "\n",
    "\n",
    "cinema = 'http://www.cinemeseixmacia.com/' #Poseu el nom de la pàgina web\n",
    "navegador = webdriver.Chrome(\"/Users/eloi/chromedriver\") #Obrir un navegador Chrome\n",
    "#navegador.implicitly_wait(10)\n",
    "navegador.get(cinema)\n",
    "\n",
    "hora = datetime.datetime.strptime(hora, '%H:%M')\n",
    "pelis_seleccionades=[]\n",
    "\n",
    "elements = navegador.find_elements_by_xpath('//*[@id=\"rt-mainbody\"]/div/div[3]/div')\n",
    "print(\"A la cartellera hi ha...:\")\n",
    "for e in elements:\n",
    "     if e.is_displayed():   \n",
    "        e = e.find_element_by_class_name(\"text\")\n",
    "        peli={}\n",
    "        peli[\"puntuacio\"] = 0\n",
    "        peli[\"release\"] = \"\"\n",
    "        peli[\"classi\"] = e.find_element_by_id(\"dadespeli\").find_element_by_class_name(\"classi\").get_attribute('textContent')\n",
    "        horaris = e.find_elements_by_class_name(\"horasessio\")\n",
    "        peli[\"horaris\"] = [datetime.datetime.strptime(h.find_element_by_tag_name(\"button\").get_attribute('textContent').strip(), '%H:%M') for h in horaris]\n",
    "        peli[\"nom\"] = e.find_element_by_tag_name(\"a\").get_attribute(\"name\").strip()\n",
    "        if any ([( datetime.timedelta(minutes=0, hours=0)  <= x-hora <= datetime.timedelta( hours=1, minutes=30)) for x in peli[\"horaris\"]]):\n",
    "            if peli[\"classi\"] == \"APTA\" or edat > int(peli[\"classi\"][0:2]) :\n",
    "                peli[\"trailer\"] = e.find_element_by_class_name(\"peli-boto-trailer\")\n",
    "                pelis_seleccionades.append(peli)\n",
    "        url_google = 'http://www.google.es/search?q='+ urllib.parse.quote(peli[\"nom\"].lower()+\" site:imdb.com\") \n",
    "        print(url_google)\n",
    "\n",
    "print(\"Seleccionades...:\")\n",
    "for peli in pelis_seleccionades:\n",
    "    \n",
    "    url = \"https://api.themoviedb.org/3/search/movie\"\n",
    "    parameters = {\"include_adult\":False, \"page\":1, \"region\": \"ES\", \"query\": peli[\"nom\"],\"language\":\"es-ES\", \"api_key\":\"ad38c5a701d46fed6b0ebc7c3d25dd49\"  }\n",
    "    response = requests.get(url,params=parameters)\n",
    "    if (int(response.headers[\"x-ratelimit-remaining\"])) > 0:\n",
    "        data = response.json()\n",
    "        if len(data[\"results\"]) > 0 :\n",
    "            millor_result = data[\"results\"][0]\n",
    "            peli[\"puntuacio\"] = millor_result[\"vote_average\"]\n",
    "            peli[\"release\"] = millor_result[\"release_date\"]\n",
    "    else:\n",
    "        print(\"Torna-ho a intentar\")\n",
    "    print(peli[\"release\"]+\" - \"+peli[\"nom\"]+ \"(\"+peli[\"classi\"]+\") \"+ str([ y.time().strftime(\"%H:%M\") for y in peli[\"horaris\"]]) + \"*** \" + str(peli[\"puntuacio\"]))\n",
    "\n",
    "\n",
    "ordenada = sorted(pelis_seleccionades, key=lambda k: k['puntuacio'], reverse=True)\n",
    "ActionChains(navegador).move_to_element(ordenada[0][\"trailer\"]).perform()\n",
    "time.sleep(3)\n",
    "navegador.execute_script(\"arguments[0].click();\", ordenada[0][\"trailer\"])\n",
    "time.sleep(3)\n",
    "wait = WebDriverWait(navegador, 5)\n",
    "wait.until(EC.frame_to_be_available_and_switch_to_it((By.TAG_NAME, 'iframe')))\n",
    "try:\n",
    "    wait = WebDriverWait(navegador, 5)\n",
    "    wait.until(EC.presence_of_element_located((By.ID, \"player\")))\n",
    "    navegador.find_element_by_class_name(\"ytp-large-play-button ytp-button\").click()\n",
    "except:\n",
    "    print(\"Clika!\")\n",
    "\n",
    "\n",
    "\n",
    "print(\"He acabat!\")\n",
    "\n"
   ]
  },
  {
   "cell_type": "code",
   "execution_count": null,
   "metadata": {
    "collapsed": true
   },
   "outputs": [],
   "source": []
  },
  {
   "cell_type": "code",
   "execution_count": null,
   "metadata": {
    "collapsed": true
   },
   "outputs": [],
   "source": []
  }
 ],
 "metadata": {
  "kernelspec": {
   "display_name": "Python 3",
   "language": "python",
   "name": "python3"
  },
  "language_info": {
   "codemirror_mode": {
    "name": "ipython",
    "version": 3
   },
   "file_extension": ".py",
   "mimetype": "text/x-python",
   "name": "python",
   "nbconvert_exporter": "python",
   "pygments_lexer": "ipython3",
   "version": "3.6.4"
  }
 },
 "nbformat": 4,
 "nbformat_minor": 2
}
