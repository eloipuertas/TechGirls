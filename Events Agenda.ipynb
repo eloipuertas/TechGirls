{
 "cells": [
  {
   "cell_type": "markdown",
   "metadata": {},
   "source": [
    "# Agenda de Sabadell plasmada en un mapa"
   ]
  },
  {
   "cell_type": "markdown",
   "metadata": {},
   "source": [
    "En el portal de dades obertes de Sabadell també podem trobar l'agenda d'esdeveniments de la ciutat organitzats per diferents temàtiques (ciència i tecnologia, art, música, festes, etc.) i ens els podem descarregar fàcilment des [d'aquí.](http://opendata.sabadell.cat/ca/inici/fitxes-cataleg?option=com_iasmetadadesarticles&cod=OD,CT-03-&title=Cultura%20i%20oci)    \n",
    "En el nostre cas ens hem baixat les corresponents a ciència i tecnologia, art i música i intentarem representar en un mapa aquells esdeveniments en que s'indiqui el punt geogràfic en que han tingut i tindran lloc (longitut i latitud). Si voleum podeu fer un cop d'ull a l'aspecte que tenen aquests arxius a la carpeta DadesSabadell.\n",
    "  \n",
    "Del següent codi podrem modificar-ne la data (**data = \"1/12/2018 18:00\"**) i representar només els esdeveniments a partir de la data seleccionada.  \n",
    "\n",
    "També podeu intentar modificar la següent línia de codi perquè només apareguin els esdeveniments d'un tipus i/o canviar-ne l'aparença de l'indicador en el mapa:  \n",
    "\n",
    "**for type,color in [(musica,'blue'),(art,'red'),(ciencia,'green')]:**"
   ]
  },
  {
   "cell_type": "code",
   "execution_count": 16,
   "metadata": {},
   "outputs": [],
   "source": [
    "import folium\n",
    "import xml.etree.ElementTree as ET\n",
    "from datetime import datetime as dt\n",
    "\n",
    "ciencia = ET.parse('DadesSabadell/cienciaitecnologia.xml')\n",
    "art = ET.parse('DadesSabadell/artipatrimoni.xml')\n",
    "musica = ET.parse('DadesSabadell/musica.xml')\n",
    "\n",
    "map = folium.Map(location=[41.54329, 2.10942],zoom_start=13)\n",
    "\n",
    "data = \"1/12/2018 18:00\"\n",
    "data_input = dt.strptime(data, \"%d/%m/%Y %H:%M\")\n",
    "\n",
    "for type,color in [(musica,'blue'),(art,'red'),(ciencia,'green')]:\n",
    "    \n",
    "    root = type.getroot()\n",
    "\n",
    "    for activitat in root.findall('activitat'):\n",
    "    \n",
    "        data = activitat.find('dataInici').text\n",
    "        data_event = dt.strptime(data,\"%d/%m/%Y %H:%M\")\n",
    "    \n",
    "        if activitat.find('.//lon') != None and data_input < data_event:\n",
    "            \n",
    "            titol= activitat.find('titol').text\n",
    "            data = activitat.find('dataInici').text\n",
    "            lat = float(activitat.find('.//lat').text)\n",
    "            lon = float(activitat.find('.//lon').text)\n",
    "            info = titol + ' '+ data\n",
    "            folium.Marker([lat, lon], popup=folium.Popup(info),icon=folium.Icon(color=color)).add_to(map)\n",
    "    \n",
    "map.save(\"DadesSabadell/agenda.html\")"
   ]
  },
  {
   "cell_type": "markdown",
   "metadata": {},
   "source": [
    "Finalment podeu veure la vostra creació en el següent link:  \n",
    "\n",
    "[Prem aquí i consulta el Mapa Generat... ](DadesSabadell/agenda.html)"
   ]
  }
 ],
 "metadata": {
  "kernelspec": {
   "display_name": "Python 2",
   "language": "python",
   "name": "python2"
  },
  "language_info": {
   "codemirror_mode": {
    "name": "ipython",
    "version": 2
   },
   "file_extension": ".py",
   "mimetype": "text/x-python",
   "name": "python",
   "nbconvert_exporter": "python",
   "pygments_lexer": "ipython2",
   "version": "2.7.15rc1"
  }
 },
 "nbformat": 4,
 "nbformat_minor": 2
}
